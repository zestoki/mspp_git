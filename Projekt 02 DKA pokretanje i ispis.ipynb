{
 "metadata": {
  "name": "",
  "signature": "sha256:5917d16fda3bad4b251d2b163ee89f75aa929d944f2ef157cbce1aa378aafd98"
 },
 "nbformat": 3,
 "nbformat_minor": 0,
 "worksheets": [
  {
   "cells": [
    {
     "cell_type": "markdown",
     "metadata": {},
     "source": [
      "# Projekt 02: DKA\n",
      "\n",
      "U ovom projektu \u0107emo nadopuniti kod od pro\u0161log projekta s tri nove funkcije:\n",
      "* funkcija `dka_run()` koja prima dka i ulazni niz te vra\u0107a `True` ili `False` ovisno o tome je li automat do\u0161ao u zavr\u0161no stanje nakon \u0161to je pro\u010ditao ulazni niz\n",
      "* funkcija `dka_repr()` koja prima dka i vra\u0107a tekstualni opis automata\n",
      "* funkcija `dka_str()` koja prima dka i vra\u0107a tekst za ispis tablice prijelaza automata.\n",
      "\n",
      "I u ovom projektu \u0107emo za testiranje koristiti DKA1 primjer automata.\n",
      "<img src=\"img/dka1.jpg\">"
     ]
    },
    {
     "cell_type": "code",
     "collapsed": false,
     "input": [
      "DKA1 = \"\"\"\n",
      "       A\n",
      "       C D\n",
      "       A 0 B\n",
      "       A 1 C\n",
      "       B 0 B\n",
      "       B 1 D\n",
      "       C 0 D\n",
      "       C 1 A\n",
      "       D 0 D\n",
      "       D 1 D\n",
      "       \"\"\""
     ],
     "language": "python",
     "metadata": {},
     "outputs": [],
     "prompt_number": 16
    },
    {
     "cell_type": "markdown",
     "metadata": {},
     "source": [
      "# Zadatak 2.1: pokretanje automata\n",
      "\n",
      "Kada automat primi ulazni niz simbola, onda kre\u0107e od po\u010detnog stanja, \u010dita simbole iz ulaznog niza i prelazi u sljede\u0107e stanje ovisno o funkciji prijelaza. Nakon \u0161to pro\u010dita cijeli ulazni niz, onda provjerava je li do\u0161ao u neko zavr\u0161no stanje (ili nije).\n",
      "\n",
      "Na primjer, neka je nad DKA1 zadan ulazni niz $1 1 0 1 0$:\n",
      "* Inicijalno automat je u po\u010detnom stanju $A$\n",
      "* automat pro\u010dita $1$ i prelazi u stanje $C$\n",
      "* automat pro\u010dita $1$ i prelazi u stanje $A$\n",
      "* automat pro\u010dita $0$ i prelazi u stanje $B$\n",
      "* automat pro\u010dita $1$ i prelazi u stanje $D$\n",
      "* automat pro\u010dita $0$ i prelazi u stanje $D$\n",
      "* $D$ je zavr\u0161no stanje\n",
      "\n",
      "Napravite funkciju `dka_run()` koja prima automat (ure\u0111ena trojka) i ulazni niz simbola. Ulazni niz simbola \u0107e se zadavati kao string i prvo \u0161to \u0107e se napraviti je njegova pretvorba u listu simbola.  \n",
      "Na primjer, za ulaz `'1 1 0 1 0'` treba se dobiti `['1', '1', '0', '1', '0']`.\n",
      "\n",
      "Na kraju, kada automat pro\u010dita cijeli ulazni niz simbola i do\u0111e u neko stanje, vratit \u0107e `True` ako je to stanje neko od zavr\u0161nih stanja (ina\u0107e vra\u0107a `False`).\n",
      "\n",
      "\n"
     ]
    },
    {
     "cell_type": "code",
     "collapsed": false,
     "input": [
      "def dka_run(dka, input):\n",
      "    \"\"\"\n",
      "    >>> dka1 = ('A', {'C', 'D'}, {('A', '0'): 'B', ('A', '1'): 'C', ('B', '0'): 'B', ('B', '1'): 'D', ('C', '0'): 'D', ('C', '1'): 'A', ('D', '0'): 'D', ('D', '1'): 'D'})\n",
      "    \n",
      "    >>> dka_run(dka1, '1 1 0 1 0')\n",
      "    True\n",
      "    \n",
      "    >>> dka_run(dka1, '0 0 0')\n",
      "    False\n",
      "\n",
      "    >>> dka_run(dka1, '0 0 0 a')\n",
      "    Traceback (most recent call last):\n",
      "    ...\n",
      "    KeyError: ('B', 'a')\n",
      "    \"\"\"\n",
      "    # ovdje unijeti kod\n",
      "    return"
     ],
     "language": "python",
     "metadata": {},
     "outputs": [],
     "prompt_number": 17
    },
    {
     "cell_type": "markdown",
     "metadata": {},
     "source": [
      "## Zadatak 2.2: tekstualna reprezentacija automata\n",
      "Tekstualna reprezentacija automata nije ni\u0161ta drugo nego tekstualni opis automata koji se sastoji od niza linija gdje prva neprazna linija sadr\u017ei po\u010detno stanje, druga neprazna linija zavr\u0161na stanja, a ostale neprazne linije prijelaze automata kao \u0161to je opisano u **Projektu 01***.\n",
      "\n",
      "Potrebno je napraviti funkciju `dka_repr()` koja \u0107e primiti automat (ure\u0111ena trojka) i vratiti tekst automata. Ova funkcija radi obrnuto od `dka_init()`. `dka_init()` prima tekst automata i vra\u0107a automat kao ure\u0111enu trojku."
     ]
    },
    {
     "cell_type": "code",
     "collapsed": false,
     "input": [
      "def dka_repr(dka):\n",
      "    \"\"\"\n",
      "    >>> dka1 = ('A', {'C', 'D'}, {('A', '0'): 'B', ('A', '1'): 'C', ('B', '0'): 'B', ('B', '1'): 'D', ('C', '0'): 'D', ('C', '1'): 'A', ('D', '0'): 'D', ('D', '1'): 'D'})\n",
      "    >>> repr1 = dka_repr(dka1)\n",
      "    >>> dka2 = dka_init(repr1)\n",
      "    >>> dka1 == dka2\n",
      "    True\n",
      "    \"\"\""
     ],
     "language": "python",
     "metadata": {},
     "outputs": [],
     "prompt_number": 18
    },
    {
     "cell_type": "markdown",
     "metadata": {},
     "source": [
      "## Zadatak 2.3: ispis tablice prijelaza automata\n",
      "\n",
      "Cilj ovog zadatka je napraviti funkciju `dka_str()` koja \u0107e primiti automat i vratiti tablicu stanja. Tablica stanja \u0107e zapravo biti string koji \u0107e nam tabli\u010dno prikazati sva stanja i sve prijelaze te ozna\u010diti po\u010detno stanje i zavr\u0161na stanja. Na primjer, za automat DKA1 string tablice stanja \u0107e izgledati ovako: "
     ]
    },
    {
     "cell_type": "code",
     "collapsed": false,
     "input": [
      "dka = \"\"\"\n",
      ":   : 0 : 1 :   :\n",
      ": - : - : - : - :\n",
      ": A : B : C : S :\n",
      ": B : B : D :   :\n",
      ": C : D : A : F :\n",
      ": D : D : D : F :\n",
      "\"\"\""
     ],
     "language": "python",
     "metadata": {},
     "outputs": [],
     "prompt_number": 19
    },
    {
     "cell_type": "markdown",
     "metadata": {},
     "source": [
      "U prvom redu tablice nalaze se svi simboli abecede **sortirani** uzlazno.  \n",
      "U prvom stupcu tablice nalaze se sva stanja **sortirana** uzlazno.  \n",
      "U zadnjem stupcu tablice sa `S` je ozna\u010deno ono stanje koje je po\u010detno, a sa `F` ono koje je zavr\u0161no.  \n",
      "**Napomena: kod automata mo\u017ee se dogoditi da je po\u010detno stanje ujedno i zavr\u0161no i to stanje \u0107e biti ozna\u010deno sa `SF`.**\n",
      "\n",
      "Prilikom ispisa tablice automata treba paziti na \u0161irinu stupca, tako na primjer mo\u017eemo imati sljede\u0107u tablicu:"
     ]
    },
    {
     "cell_type": "code",
     "collapsed": false,
     "input": [
      "dka2 = \"\"\"\n",
      ":     : start : stop :    :\n",
      ": --- : ----- : ---- : -- :\n",
      ": q0  : q1    : q0   : SF :\n",
      ": q1  : q0    : q10  :    :\n",
      ": q10 : q10   : q0   : F  :\n",
      "\"\"\""
     ],
     "language": "python",
     "metadata": {},
     "outputs": [],
     "prompt_number": 23
    },
    {
     "cell_type": "markdown",
     "metadata": {},
     "source": [
      "Kako bi odredili \u0161irinu pojedinog stupca, uzet \u0107emo maksimalnu duljinu stringa u pojedinom stupcu.  \n",
      "Na primjer, u prvom stupcu se nalaze stringovi `'q0'`, `'q1'` i `'q10'` stoga \u0107e \u0161irina stupca biti duljina od `'q10'` odnosno `3`.\n",
      "\n",
      "Zbog toga \u0107emo: \n",
      "1. stvoriti tablicu kao listu lista i popuniti vrijednostima iz automata\n",
      "2. izra\u010dunati maksimalne \u0161irine za svaki stupac\n",
      "3. primijeniti \u0161irine na redove tablice\n",
      "4. dodati red tablice sa separatorima\n",
      "5. redove tablice pretvoriti u stringove\n",
      "\n",
      "Primjeri transformacije automata"
     ]
    },
    {
     "cell_type": "code",
     "collapsed": false,
     "input": [
      "# 1. stvaranje tablice\n",
      "table = [\n",
      "[' ', 'start', 'stop', ' '],\n",
      "['q0', 'q1', 'q0', 'SF'],\n",
      "['q1', 'q0', 'q10', ' '],\n",
      "['q10', 'q10', 'q0', 'F']]\n",
      "\n",
      "# 2. \u0161irine\n",
      "widths = [3, 5, 4, 2]\n",
      "\n",
      "# 3. primjena \u0161irine na tablicu\n",
      "table = [\n",
      "['   ', 'start', 'stop', '  '],\n",
      "['q0 ', 'q1   ', 'q0  ', 'SF'],\n",
      "['q1 ', 'q0   ', 'q10 ', '  '],\n",
      "['q10', 'q10  ', 'q0  ', 'F ']]\n",
      "\n",
      "# 4. dodavanje separatora\n",
      "table = [\n",
      "['   ', 'start', 'stop', '  '],\n",
      "['---', '-----', '----', '--'],\n",
      "['q0 ', 'q1   ', 'q0  ', 'SF'],\n",
      "['q1 ', 'q0   ', 'q10 ', '  '],\n",
      "['q10', 'q10  ', 'q0  ', 'F ']]\n",
      "\n",
      "# 5. spojiti \n",
      "table = [\n",
      "':     : start : stop :    :',\n",
      "': --- : ----- : ---- : -- :',\n",
      "': q0  : q1    : q0   : SF :',\n",
      "': q1  : q0    : q10  :    :',\n",
      "': q10 : q10   : q0   : F  :'\n",
      "]\n"
     ],
     "language": "python",
     "metadata": {},
     "outputs": [],
     "prompt_number": 21
    },
    {
     "cell_type": "code",
     "collapsed": false,
     "input": [
      "def dka_str(dka):\n",
      "    \"\"\"\n",
      "    >>> dka1 = ('A', {'C', 'D'}, {('A', '0'): 'B', ('A', '1'): 'C', ('B', '0'): 'B', ('B', '1'): 'D', ('C', '0'): 'D', ('C', '1'): 'A', ('D', '0'): 'D', ('D', '1'): 'D'})\n",
      "    >>> print(dka_str(dka1))\n",
      "    :   : 0 : 1 :   :\n",
      "    : - : - : - : - :\n",
      "    : A : B : C : S :\n",
      "    : B : B : D :   :\n",
      "    : C : D : A : F :\n",
      "    : D : D : D : F :\n",
      "    <BLANKLINE>\n",
      "    \"\"\"\n",
      "    #kod ovdje\n",
      "    return"
     ],
     "language": "python",
     "metadata": {},
     "outputs": [],
     "prompt_number": 22
    }
   ],
   "metadata": {}
  }
 ]
}