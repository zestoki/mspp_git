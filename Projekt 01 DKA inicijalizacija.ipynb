{
 "metadata": {
  "name": "",
  "signature": "sha256:185274be5c6e8b50b82a7e1d07acef7bac9e24d1766ea0c247b843315f7da7c1"
 },
 "nbformat": 3,
 "nbformat_minor": 0,
 "worksheets": [
  {
   "cells": [
    {
     "cell_type": "markdown",
     "metadata": {},
     "source": [
      "# Projekt 1 - Deterministi\u010dki kona\u010dni automat\n",
      "\n",
      "Za prvi dio projekta potrebno je napisati Python kod koji kreira ure\u0111enu trojku `(start, finish, delta)` gdje je  \n",
      "* `start` - po\u010detno stanje\n",
      "* `finish` - skup `set` zavr\u0161nih stanja\n",
      "* `delta` - funkcija prijelaza opisana Python `dict` strukturom podataka\n",
      "\n",
      "temeljem tekstualnog opisa automata.\n",
      "\n",
      "Tekstualni opis (ili skra\u010deno tekst) DKA sastoji se od linija gdje  \n",
      "* prva neprazna linija predstavlja po\u010detno stanje,  \n",
      "* druga neprazna linija predstavlja skup zavr\u0161nih stanja,\n",
      "* ostale neprazne linije predstavljaju prijelaze\n",
      "\n",
      "U drugom dijelu projekta je za zadanu trojku automata potrebno ispisati skup svih stanja i skup svih simbola (abeceda).\n",
      "\n",
      "Za ovaj projekt potrebno je poznavati rad s osnovnim Pythonovim tipovima podataka kao \u0161to su\n",
      "* [tekstualne sekvence](https://docs.python.org/3.4/library/stdtypes.html#textseq) (string)\n",
      "* [sekvence](https://docs.python.org/3.4/library/stdtypes.html#sequence-types-list-tuple-range) (list, tuple, range)\n",
      "* [skupovi](https://docs.python.org/3.4/library/stdtypes.html#set-types-set-frozenset) (set, frozenset)\n",
      "* [mape](https://docs.python.org/3.4/library/stdtypes.html#mapping-types-dict) (dict)\n",
      "\n",
      "Prilikom testiranja \u0107e se koristiti [doctest](https://docs.python.org/3.4/library/doctest.html) modul\n"
     ]
    },
    {
     "cell_type": "markdown",
     "metadata": {},
     "source": [
      "## Primjer automata DKA1\n",
      "Prvi automat kojeg \u0107emo tekstualno opisati je prikazan na donjoj slici.\n",
      "<img src=\"img/dka1.jpg\" />\n",
      "Njegova tablica stanja je:\n",
      "\n",
      "|   | 0 | 1 |   |\n",
      "|---|---|---|---|\n",
      "| A | B | C |   |\n",
      "| B | B | D |   |\n",
      "| C | D | A | 1 |\n",
      "| D | D | D | 1 |\n",
      "\n",
      "Formalno zapisano, automat DKA1 je ure\u0111ena petorka $DKA1 = (\\{A,B,C,D\\}, \\{0,1\\}, \\delta, A, \\{C,D\\})$, odnosno:\n",
      "* $\\{A,B,C,D\\}$ su stanja\n",
      "* $\\{0,1\\}$ je abeceda\n",
      "* $\\delta$ je funkcija prijelaza za koju vrijedi  \n",
      "$\\delta(A,0)=B, \\delta(A,1)=C, \\delta(B,0)=B, \\delta(B,1)=D$  \n",
      "$\\delta(C,0)=D, \\delta(C,1)=A, \\delta(D,0)=D, \\delta(D,1)=D$  \n",
      "* $A$ je po\u010detno stanje\n",
      "* $\\{C,D\\}$ je skup zavr\u0161nih stanja\n",
      "\n",
      "U Pythonu, tekstualne opise automata \u0107emo definirati kao konstantne globalne varijable (pisane velikim slovima), a njihova vrijednost \u0107e biti Pythonov `docstring`."
     ]
    },
    {
     "cell_type": "code",
     "collapsed": false,
     "input": [
      "DKA1 = \"\"\"\n",
      "       A\n",
      "       C D\n",
      "       A 0 B\n",
      "       A 1 C\n",
      "       B 0 B\n",
      "       B 1 D\n",
      "       C 0 D\n",
      "       C 1 A\n",
      "       D 0 D\n",
      "       D 1 D\n",
      "       \"\"\""
     ],
     "language": "python",
     "metadata": {},
     "outputs": [],
     "prompt_number": 1
    },
    {
     "cell_type": "markdown",
     "metadata": {},
     "source": [
      "Automat DKA1 je tekstualno opisan u varijabli `DKA1` i prva neprazna linija sadr\u017ei stanje `A`. Druga neprazna linija je `C D` i njome se navode stanja u skupu zavr\u0161nih stanja.\n",
      "Sljede\u0107e neprazne linije opisuju prijelaze, pa tako `A 0 B` opisuje prijelaz $\\delta(A,0)=B$, i tako dalje."
     ]
    },
    {
     "cell_type": "markdown",
     "metadata": {},
     "source": [
      "## Zadatak 1.1: inicijalizacija automata\n",
      "Prvi zadatak je napraviti funkciju `dka_init(txt)` koja prima tekstualni opis automata `txt` i vra\u0107a ure\u0111enu trojku `(start, finish, delta)` kao \u0161to je navedeno na po\u010detku. Konkretno, kad se pozove `dka_init(DKA1)` treba se vratiti ovakav rezultat:"
     ]
    },
    {
     "cell_type": "markdown",
     "metadata": {},
     "source": [
      "`('A',\n",
      " {'C', 'D'},\n",
      " {('C', '0'): 'D',\n",
      "  ('D', '1'): 'D',\n",
      "  ('A', '0'): 'B',\n",
      "  ('C', '1'): 'A',\n",
      "  ('A', '1'): 'C',\n",
      "  ('B', '1'): 'D',\n",
      "  ('D', '0'): 'D',\n",
      "  ('B', '0'): 'B'})`"
     ]
    },
    {
     "cell_type": "markdown",
     "metadata": {},
     "source": [
      "Prvi element trojke je string `'A'` odnosno po\u010detno stanje.  \n",
      "Drugi element trojke je skup stringova `{'C', 'D'}` odnosno skup zavr\u0161nih stanja.  \n",
      "**Napomena: kod ispisa skupa ili rje\u010dnika u Pythonu, elementi se ne moraju uvijek prikazati u ovakvom redoslijedu.**  \n",
      "Tre\u0107i element trojke je Pythonov rje\u010dnik (dict)  \n",
      "`{('C', '0'): 'D', ('D', '1'): 'D', ('A', '0'): 'B', ('C', '1'): 'A',   ('A', '1'): 'C', ('B', '1'): 'D', ('D', '0'): 'D', ('B', '0'): 'B'})`.  \n",
      "Pogledajmo jedan klju\u010d i vrijednost iz rje\u010dnika: na primjer `('C', '0'): 'D'` ima za klju\u010d ure\u0111eni par `('C', '0')`, a za vrijednost string `'D'` i time smo opisali prijelaz $\\delta(C,0)=D$\n",
      "\n",
      "Za testiranje metoda koristit \u0107emo [doctest modul](https://docs.python.org/3.4/library/doctest.html).\n",
      "\n",
      "U donjem primjeru zadan je kostur funkcije `dka_init()`. Nakon deklaracije naziva funkcije stvara se `docstring` u kojem se ni\u017ee niz naredbi (kao u Python konzoli) gdje prije svake naredbe prethodi prompt `>>> `. U prvoj liniji se poziva funkcija `dka_init()` s tekstualnim parametrom i vrijednost se sprema u varijablu `dka1`. Zatim se varijabla `dka1`\u02d9uspore\u0111uje s ure\u0111enom trojkom automata i ako je sve u redu vra\u0107a se `True`.\n",
      "\n",
      "Va\u0161 zadatak je dopuniti kod funkcije `dka_init()` i vratiti ure\u0111enu trojku."
     ]
    },
    {
     "cell_type": "code",
     "collapsed": false,
     "input": [
      "def dka_init(txt):\n",
      "    \"\"\"\n",
      "    >>> dka1 = dka_init('A\\\\nC D\\\\nA 0 B\\\\nA 1 C\\\\nB 0 B\\\\nB 1 D\\\\nC 0 D\\\\nC 1 A\\\\nD 0 D\\\\nD 1 D')\n",
      "    >>> dka1 == ('A', {'C', 'D'}, {('A', '0'): 'B', ('A', '1'): 'C', ('B', '0'): 'B', ('B', '1'): 'D', ('C', '0'): 'D', ('C', '1'): 'A', ('D', '0'): 'D', ('D', '1'): 'D'})\n",
      "    True\n",
      "    \"\"\"\n",
      "    # ovdje napisati kod\n",
      "    return"
     ],
     "language": "python",
     "metadata": {},
     "outputs": [],
     "prompt_number": 2
    },
    {
     "cell_type": "markdown",
     "metadata": {},
     "source": [
      "## Zadatak 1.2: stanja i simboli automata"
     ]
    },
    {
     "cell_type": "markdown",
     "metadata": {},
     "source": [
      "Potrebno je napraviti dvije funkcije `dka_states()` i `dka_symbols()` koje \u0107e vratiti sva stanja i simbole (abecedu) automata. Parametri ovih metoda je automat opisan ure\u0111enom trojkom po\u010detnog stanja, skupa zavr\u0161nih stanja i funkcije prijelaza.\n",
      "\n",
      "* dka_states() \u0107e vratiti skup svih stanja koji mora uklju\u010divati po\u010detno stanje, zavr\u0161na stanja i sva stanja iz svih prijelaza.\n",
      "* dka_symbols() \u0107e vratiti skup svih simbola koji se nalaze u svim prijelazima.\n",
      "\n",
      "Kao rezultat `dka_states()` \u0107e vratiti `{'A', 'B', 'C', 'D'}`, a `dka_symbols()` \u0107e vratiti `{'0', '1'}` za automat `DKA1`.\n",
      "\n",
      "Temeljem ovog primjera su napravljeni `doctest`-ovi navedenih metoda..."
     ]
    },
    {
     "cell_type": "code",
     "collapsed": false,
     "input": [
      "def dka_states(dka):\n",
      "    \"\"\"\n",
      "    >>> s1 = dka_states(('A', {'C', 'D'}, {('A', '0'): 'B', ('A', '1'): 'C', ('B', '0'): 'B', ('B', '1'): 'D', ('C', '0'): 'D', ('C', '1'): 'A', ('D', '0'): 'D', ('D', '1'): 'D'}))\n",
      "    >>> s1 == {'A', 'B', 'C', 'D'}\n",
      "    True\n",
      "    \"\"\"\n",
      "    # kod unijeti ovdje\n",
      "    return\n",
      "\n",
      "def dka_symbols(dka):\n",
      "    \"\"\"\n",
      "    >>> i1 = dka_symbols(('A', {'C', 'D'}, {('A', '0'): 'B', ('A', '1'): 'C', ('B', '0'): 'B', ('B', '1'): 'D', ('C', '0'): 'D', ('C', '1'): 'A', ('D', '0'): 'D', ('D', '1'): 'D'}))\n",
      "    >>> i1 == {'0', '1'}\n",
      "    True\n",
      "    \"\"\"\n",
      "    # kod unijeti ovdje\n",
      "    return"
     ],
     "language": "python",
     "metadata": {},
     "outputs": [],
     "prompt_number": 3
    },
    {
     "cell_type": "markdown",
     "metadata": {},
     "source": [
      "Kako bi pomo\u0107u `doctest` modula testirali metode, onda se obi\u010dno u `__main__` importira `doctest` modul i pozove se metoda `testmod()`. Metode \u0107e uspje\u0161no polo\u017eiti test ako se program izvr\u0161i bez ikakve poruke.\n",
      "\n",
      "U donjem primjeru se nakon izvr\u0161avanja javila poruka o gre\u0161ci koju je generirao `doctest` modul. \n",
      "On je o\u010dekivao da test od `dka_init()` vrati `True` , ali je vratio `False`\u02d9\u0161to je o\u010dito jer nismo napravili ni\u0161ta unutar `dka_init()` metode. Na analogan na\u010din su pali testovi za `dka_states()` i `dka_symbols()`."
     ]
    },
    {
     "cell_type": "code",
     "collapsed": false,
     "input": [
      "if __name__ == '__main__':\n",
      "    import doctest\n",
      "    doctest.testmod()"
     ],
     "language": "python",
     "metadata": {},
     "outputs": [
      {
       "output_type": "stream",
       "stream": "stdout",
       "text": [
        "**********************************************************************\n",
        "File \"__main__\", line 4, in __main__.dka_init\n",
        "Failed example:\n",
        "    dka1 == ('A', {'C', 'D'}, {('A', '0'): 'B', ('A', '1'): 'C', ('B', '0'): 'B', ('B', '1'): 'D', ('C', '0'): 'D', ('C', '1'): 'A', ('D', '0'): 'D', ('D', '1'): 'D'})\n",
        "Expected:\n",
        "    True\n",
        "Got:\n",
        "    False\n",
        "**********************************************************************\n",
        "File \"__main__\", line 4, in __main__.dka_states\n",
        "Failed example:\n",
        "    s1 == {'A', 'B', 'C', 'D'}\n",
        "Expected:\n",
        "    True\n",
        "Got:\n",
        "    False\n",
        "**********************************************************************\n",
        "File \"__main__\", line 13, in __main__.dka_symbols\n",
        "Failed example:\n",
        "    i1 == {'0', '1'}\n",
        "Expected:\n",
        "    True\n",
        "Got:\n",
        "    False\n",
        "**********************************************************************\n",
        "3 items had failures:\n",
        "   1 of   2 in __main__.dka_init\n",
        "   1 of   2 in __main__.dka_states\n",
        "   1 of   2 in __main__.dka_symbols\n",
        "***Test Failed*** 3 failures.\n"
       ]
      }
     ],
     "prompt_number": 4
    }
   ],
   "metadata": {}
  }
 ]
}