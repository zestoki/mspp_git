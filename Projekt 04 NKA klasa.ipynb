{
 "metadata": {
  "name": "",
  "signature": "sha256:b3ca758f40231d8e90df2162fbd3b4249d0c337cb7455fedcbd626e04fea0e39"
 },
 "nbformat": 3,
 "nbformat_minor": 0,
 "worksheets": [
  {
   "cells": [
    {
     "cell_type": "markdown",
     "metadata": {},
     "source": [
      "# Projekt 04: NKA\n",
      "\n",
      "Sada \u0107emo napravili klasu `Nka()`. Klasa `Nka()` \u0107e imati iste metode kao i klasa `Dka()`:\n",
      "* `__init__(self, txt)` slu\u017ei za inicijalizaciju\n",
      "* `states(self)` vra\u0107a stanja\n",
      "* `symbols(self)` vra\u0107a abecedu\n",
      "* `run(self, input)` pokre\u0107e automat za dani ulaz `input`\n",
      "* `repr(self)` vra\u0107a tekstualnu reprezentaciju automata\n",
      "* `str(self)` vra\u0107a string tablice prijelaza automata\n",
      "\n",
      "Automat \u0107emo testirati na primjeru automata NKA1."
     ]
    },
    {
     "cell_type": "markdown",
     "metadata": {},
     "source": [
      "## Primjer automata NKA1\n",
      "\n",
      "Automat kojeg \u0107emo tekstualno opisati je prikazan na donjoj slici.\n",
      "\n",
      "<img src=\"img/nka1.jpg\" />\n",
      "\n",
      "Njegova tablica stanja je\n",
      "\n",
      "||a|b||\n",
      "|-|-|-|-|\n",
      "|1|{2}|{}||\n",
      "|2|{2}|{2,3}||\n",
      "|3|{3,4}|{3}||\n",
      "|4|{}|{}|1|\n",
      "\n",
      "Formalno zapisano, automat NKA1 je ure\u0111ena petorka $NKA1=(\\{1, 2, 3, 4\\}, \\{a, b\\}, \\delta, 1, \\{4\\} )$, odnosno:\n",
      "* $\\{1, 2, 3, 4\\}$ su stanja\n",
      "* $\\{a, b\\}$ je abeceda\n",
      "* $\\delta$ je funkcija prijelaza za koju vrijedi:  \n",
      "$\\delta(1,a)=\\{2\\}$, $\\delta(1,b)=\\{\\}$, $\\delta(2,a)=\\{2\\}$, $\\delta(2,b)=\\{2, 3\\}$  \n",
      "$\\delta(3,a)=\\{3,4\\}$, $\\delta(3,b)=\\{3\\}$, $\\delta(4,a)=\\{\\}$, $\\delta(4,b)=\\{\\}$\n",
      "* $1$ je po\u010detno stanje\n",
      "* $\\{4\\}$ je skup zavr\u0161nih stanja\n",
      "\n",
      "Tekstualna reprezentacija automata NKA1 je:"
     ]
    },
    {
     "cell_type": "code",
     "collapsed": false,
     "input": [
      "NKA1 = \"\"\"\n",
      "1\n",
      "4\n",
      "1 a 2\n",
      "1 b\n",
      "2 a 2\n",
      "2 b 2 3\n",
      "3 a 3 4\n",
      "3 b 3\n",
      "4 a\n",
      "4 b\n",
      "\"\"\""
     ],
     "language": "python",
     "metadata": {},
     "outputs": [],
     "prompt_number": 10
    },
    {
     "cell_type": "markdown",
     "metadata": {},
     "source": [
      "Automat NKA1 je tekstualno opisan u varijabli `NKA1` i prva neprazna linija sadr\u017ei po\u010detno stanje `1`. Druga neprazna linija je `4` i njome se navode stanja u skupu zavr\u0161nih stanja.\n",
      "Sljede\u0107e neprazne linije opisuju prijelaze, pa tako:\n",
      "* `1 a 2` opisuje prijelaz $\\delta(1,a)=\\{2\\}$, \n",
      "* `2 b 2 3` opisuje prijelaz $\\delta(2,b)=\\{2,3\\}$\n",
      "* `4 a` opisuje prijelaz $\\delta(4,a)=\\{\\}$."
     ]
    },
    {
     "cell_type": "code",
     "collapsed": false,
     "input": [
      "class Nka():\n",
      "    \"\"\"\n",
      "    >>> nka1 = Nka(NKA1)\n",
      "    >>> nka1.start\n",
      "    1\n",
      "    >>> nka.finish == {'4'}\n",
      "    True\n",
      "    >>> nka.states == {'1', '2', '3', '4'}\n",
      "    True\n",
      "    >>> nka.symbols == {'a', 'b'}\n",
      "    True\n",
      "    >>> nka.run('a b a')\n",
      "    True\n",
      "    \"\"\"\n",
      "    def __init__(self, txt):\n",
      "        # u self dodati atribute start, finish i delta\n",
      "        pass\n",
      "    \n",
      "    @property\n",
      "    def states(self):\n",
      "        return\n",
      "    \n",
      "    @property\n",
      "    def symbols(self):\n",
      "        return\n",
      "    \n",
      "    def run(self, input):\n",
      "        return\n",
      "    \n",
      "    def __repr__(self):\n",
      "        return ''\n",
      "    \n",
      "    def __str__(self):\n",
      "        return ''\n",
      "    \n",
      "    def to_dka(self):\n",
      "        return\n",
      "    "
     ],
     "language": "python",
     "metadata": {},
     "outputs": [],
     "prompt_number": 11
    },
    {
     "cell_type": "code",
     "collapsed": false,
     "input": [
      "nka1 = Nka(NKA1)\n",
      "print(nka1.states) # treba ispisati skup {'1', '2', '3', '4'}\n",
      "print(nka1.symbols) # treba ispisati skup {'a', 'b' }\n",
      "print(nka1.run('a a b a')) #treba ispisati True\n",
      "print(repr(nka1))\n",
      "print(nka1)"
     ],
     "language": "python",
     "metadata": {},
     "outputs": [
      {
       "output_type": "stream",
       "stream": "stdout",
       "text": [
        "None\n",
        "None\n",
        "None\n",
        "\n",
        "\n"
       ]
      }
     ],
     "prompt_number": 12
    },
    {
     "cell_type": "markdown",
     "metadata": {},
     "source": [
      "# Pretvorba NKA u DKA\n",
      "\n",
      "U klasi `Nka` dodaj metodu `to_dka(self)` koja \u0107e provoditi pretvorbu NKA u istovjetni DKA. Ova metoda \u0107e vratiti DKA \u010dija je klasa napravljena u projektu 3. \n",
      "\n",
      "Algoritam pretvorbe \u0107emo pojasniti na primjeru automata NKA1:\n",
      "* Po\u010detno stanje od DKA je skup koji sadr\u017ei po\u010detno stanje od NKA, odnosno $\\{1\\}$. \n",
      "* Sada \u0107emo gledati u koja sve stanja \u0107e se preslikati $\\{1\\}$ kada pro\u010ditamo sva slova abecede odnosno $a$ i $b$.\n",
      " * Kada pro\u010ditamo $a$ dobivamo stanje $\\{2\\}$. Ovime smo dobili prijelaz $\\delta'(\\{1\\}, a) = \\{2\\}$ od DKA. Po\u0161to ovo stanje nismo prije imali, sa\u010duvat \u0107emo ga za daljnju obradu.\n",
      " * Kada pro\u010ditamo $b$ dobivamo stanje $\\{\\}$. Ovime smo dobili prijelaz $\\delta'(\\{1\\}, b) = \\{\\}$ od DKA. Po\u0161to ovo stanje nismo prije imali, sa\u010duvat \u0107emo ga za daljnju obradu.\n",
      "* Sada \u0107emo za stanja $\\{2\\}$ i $\\{\\}$ pogledati u koja stanja \u0107e se preslikati i koja su nova neobra\u0111ena stanja:\n",
      " * Dobili smo sljede\u0107e prijelaze od DKA $\\delta'(\\{2\\}, a) = \\{2\\}$, $\\delta'(\\{2\\}, b) = \\{2,3\\}$, $\\delta'(\\{\\}, a) = \\{\\}$, $\\delta'(\\{\\}, b) = \\{\\}$\n",
      " * Nova stanja su $\\{2,3\\}$.\n",
      "* Za stanje $\\{2,3\\}$ pogledamo prijelaze i uzmemo nova neobra\u0111ena stanja:\n",
      " * Prijelazi od DKA su $\\delta'(\\{2,3\\}, a) = \\{2,3,4\\}$ i $\\delta'(\\{2,3\\}, b) = \\{2,3\\}$\n",
      " * Nova stanja su $\\{2,3,4\\}$\n",
      "* Za stanje $\\{2,3,4\\}$ pogledamo prijelaze i uzmemo nova neobra\u0111ena stanja:\n",
      " * Prijelazi od DKA su $\\delta'(\\{2,3,4\\}, a) = \\{2,3,4\\}$ i $\\delta'(\\{2,3,4\\}, b) = \\{2,3\\}$\n",
      " * Nema novih stanja\n",
      "\n",
      "Sada ona stanja od DKA koja sadr\u017ee barem jedno zavr\u0161no stanje od NKA postaju zavr\u0161na stanja od DKA, a to je jedino stanje \\{2,3,4\\}.\n",
      "\n",
      "Stanja od DKA \u0107emo prikazivati kao listu, pa tako stanje $\\{2,3,4\\}$ \u0107e u Pythonu biti lista stringova `['2', '3', '4']`."
     ]
    },
    {
     "cell_type": "code",
     "collapsed": false,
     "input": [
      "nka1.to_dka()"
     ],
     "language": "python",
     "metadata": {},
     "outputs": [],
     "prompt_number": 9
    },
    {
     "cell_type": "markdown",
     "metadata": {},
     "source": [
      "Za rezultat se dobije automat\n",
      "\n",
      "<img src=\"img/nka1_to_dka.jpg\" />\n",
      "\n",
      "odnosno\n",
      "\n",
      "||a|b||\n",
      "|-|-|-|-|\n",
      "|[1]|[2]|[]||\n",
      "|[2]|[2]|[2,3]||\n",
      "|[]|[]|[]||\n",
      "|[2,3]|[2,3,4]|[2,3]||\n",
      "|[2,3,4]|[2,3,4]|[2,3]|1|\n"
     ]
    }
   ],
   "metadata": {}
  }
 ]
}