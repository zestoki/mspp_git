{
 "metadata": {
  "name": "",
  "signature": "sha256:61401562d725ad95c7fe212a27f2bfd6062cfe64db455224ebddbf5879d21d28"
 },
 "nbformat": 3,
 "nbformat_minor": 0,
 "worksheets": [
  {
   "cells": [
    {
     "cell_type": "markdown",
     "metadata": {},
     "source": [
      "# Projekt 03: DKA\n",
      "Nakon \u0161to smo napisali funkcije za inicijalizaciju, vra\u0107anje stanja i simbola, pokretanje i ispis, ove funkcije \u0107emo iskoristiti kako bi napravili klasu `Dka()`. U klasi Dka() \u0107emo sljede\u0107e metode poistovijetiti s funkcijama iz Projekta 1 i 2:\n",
      "\n",
      "| Proceduralno | Objektno | Napomena |\n",
      "| --- | --- | --- |\n",
      "| `dka_init(txt)` | `__init__(self, txt)` | `dka_init(`) vra\u0107a ure\u0111enu trojku `(start, finish, delta)`.<br>`__init__()` ne vra\u0107a ni\u0161ta jer \u0107e `start`, `finish` i `delta` postati atributi od `self`. |\n",
      "| `dka_states(dka)` | `states(self)` | `states()` ne mora primiti `dka` jer `self` sadr\u017ei `start`, `finish` i `delta`. |\n",
      "| `dka_symbols(dka)` | `symbols(self)` | `states()` ne mora primiti `dka` jer `self` sadr\u017ei `start`, `finish` i `delta`. |\n",
      "| `dka_run(dka, input)` | `run(input)` | `run()` ne mora primiti `dka` jer `self` sadr\u017ei `start`, `finish` i `delta`. |\n",
      "| `dka_repr(dka)` | `__repr__(self)` | `__repr__()` ne mora primiti `dka` jer `self` sadr\u017ei `start`, `finish` i `delta`. |\n",
      "| `dka_str(dka)` | `__str__(self)` | `__str__()` ne mora primiti `dka` jer `self` sadr\u017ei `start`, `finish` i `delta`. |\n"
     ]
    },
    {
     "cell_type": "code",
     "collapsed": false,
     "input": [
      "class Dka():\n",
      "    \"\"\"\n",
      "    >>> dka1 = Dka(DKA1)\n",
      "    >>> dka1.start\n",
      "    A\n",
      "    >>> dka.finish == {'C', 'D'}\n",
      "    True\n",
      "    >>> dka.states == {'A', 'B', 'C', 'D'}\n",
      "    True\n",
      "    >>> dka.symbols == {'0', '1'}\n",
      "    True\n",
      "    >>> dka.run('1 1 0 1 0')\n",
      "    True\n",
      "    \"\"\"\n",
      "    def __init__(self, txt):\n",
      "        # u self dodati atribute start, finish i delta\n",
      "        pass\n",
      "    \n",
      "    @property\n",
      "    def states(self):\n",
      "        return\n",
      "    \n",
      "    @property\n",
      "    def symbols(self):\n",
      "        return\n",
      "    \n",
      "    def run(self, input):\n",
      "        return\n",
      "    \n",
      "    def __repr__(self):\n",
      "        return ''\n",
      "    \n",
      "    def __str__(self):\n",
      "        return ''\n",
      "    "
     ],
     "language": "python",
     "metadata": {},
     "outputs": [],
     "prompt_number": 4
    },
    {
     "cell_type": "code",
     "collapsed": false,
     "input": [
      "dka = Dka(\"\"\"\n",
      "          A\n",
      "          B C\n",
      "          A 0 B\n",
      "          A 1 C\n",
      "          B 0 A\n",
      "          B 1 C\n",
      "          C 0 B\n",
      "          C 1 C\n",
      "          \"\"\")\n",
      "print(dka.states) # treba ispisati skup {'A', 'B', 'C'}\n",
      "print(dka.symbols) # treba ispisati skup {'0', '1' }\n",
      "print(dka.run('1 1 0 1')) #treba ispisati True\n",
      "print(repr(dka))\n",
      "print(dka)"
     ],
     "language": "python",
     "metadata": {},
     "outputs": [
      {
       "output_type": "stream",
       "stream": "stdout",
       "text": [
        "None\n",
        "None\n",
        "None\n",
        "\n",
        "\n"
       ]
      }
     ],
     "prompt_number": 5
    },
    {
     "cell_type": "code",
     "collapsed": false,
     "input": [],
     "language": "python",
     "metadata": {},
     "outputs": []
    }
   ],
   "metadata": {}
  }
 ]
}