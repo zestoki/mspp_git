{
 "metadata": {
  "name": "",
  "signature": "sha256:70cfa3834d86bc428965e5ef35ea6adb7fffc563a1578eb2136147a4e3859bcc"
 },
 "nbformat": 3,
 "nbformat_minor": 0,
 "worksheets": [
  {
   "cells": [
    {
     "cell_type": "markdown",
     "metadata": {},
     "source": [
      "# Projekt 05: \u03b5-NKA\n",
      "\n",
      "Nedeterministi\u010dki kona\u010dni automat s \u03b5 prijelazima \u0107emo implementirati kao klasu `Enka()`. Klasa `Enka()` \u0107e imati iste metode kao i klasa `Nka()`:\n",
      "* `__init__(self, txt)` slu\u017ei za inicijalizaciju\n",
      "* `states(self)` vra\u0107a stanja\n",
      "* `symbols(self)` vra\u0107a abecedu\n",
      "* `run(self, input)` pokre\u0107e automat za dani ulaz `input`\n",
      "* `repr(self)` vra\u0107a tekstualnu reprezentaciju automata\n",
      "* `str(self)` vra\u0107a string tablice prijelaza automata\n",
      "\n",
      ", ali \u0107emo dodati metodu \n",
      "* `epsilon(self, states)` koja \u0107e vratiti epsilon okolinu stanja iz skupa `states`.\n",
      "\n",
      "Automat \u0107emo testirati na primjeru automata ENKA1."
     ]
    },
    {
     "cell_type": "markdown",
     "metadata": {},
     "source": [
      "## Primjer automata ENKA1\n",
      "\n",
      "Automat kojeg \u0107emo tekstualno opisati je prikazan na donjoj slici.\n",
      "\n",
      "<img src=\"img/enka1.jpg\" />\n",
      "\n",
      "Njegova tablica stanja je\n",
      "\n",
      "||0|1|2|\u03b5||\n",
      "|-|-|-|-|-|-|\n",
      "|q0|{q0}|{}|{}|{q1}|0|\n",
      "|q1|{}|{q1}|{}|{q2}|0|\n",
      "|q2|{}|{}|{q2}|{}|1|\n",
      "\n",
      "Formalno zapisano, automat ENKA1 je ure\u0111ena petorka $NKA1=(\\{q_0, q_1, q_2\\}, \\{0, 1, 2, \u03b5\\}, \\delta, q_0, \\{q_2\\} )$, odnosno:\n",
      "* $\\{q_0, q_1, q_2\\}$ su stanja\n",
      "* $\\{0, 1, 2, \u03b5\\}$ je abeceda\n",
      "* $\\delta$ je funkcija prijelaza za koju vrijedi:  \n",
      "$\\delta(q_0,0)=\\{q_0\\}$, $\\delta(q_0,1)=\\{\\}$, $\\delta(q_0,2)=\\{\\}$, $\\delta(q_0,\u03b5)=\\{q_1\\}$  \n",
      "$\\delta(q_1,0)=\\{\\}$, $\\delta(q_1,1)=\\{q_1\\}$, $\\delta(q_1,2)=\\{\\}$, $\\delta(q_1,\u03b5)=\\{q_2\\}$  \n",
      "$\\delta(q_2,0)=\\{\\}$, $\\delta(q_2,1)=\\{\\}$, $\\delta(q_2,2)=\\{q_2\\}$, $\\delta(q_2,\u03b5)=\\{\\}$  \n",
      "* $q_0$ je po\u010detno stanje\n",
      "* $\\{q_2\\}$ je skup zavr\u0161nih stanja\n",
      "\n",
      "Tekstualna reprezentacija automata ENKA1 je:"
     ]
    },
    {
     "cell_type": "code",
     "collapsed": false,
     "input": [
      "ENKA1 = \"\"\"\n",
      "       q0\n",
      "       q2\n",
      "       q0 0 q0\n",
      "       q0 * q1\n",
      "       q1 1 q1\n",
      "       q1 * q2\n",
      "       q2 2 q2\n",
      "       \"\"\""
     ],
     "language": "python",
     "metadata": {},
     "outputs": [],
     "prompt_number": 3
    },
    {
     "cell_type": "markdown",
     "metadata": {},
     "source": [
      "Automat ENKA1 je tekstualno opisan u varijabli `ENKA1` i prva neprazna linija sadr\u017ei po\u010detno stanje `q0`. Druga neprazna linija je `q2` i njome se navode stanja iz skupa zavr\u0161nih stanja.\n",
      "Sljede\u0107e neprazne linije opisuju prijelaze, pa tako:\n",
      "* `q0 0 q0` opisuje prijelaz $\\delta(q_0,0)=\\{q_0\\}$, \n",
      "* `q0 * q1` opisuje prijelaz $\\delta(q_0,\u03b5)=\\{q_1\\}$\n",
      "\n",
      "**NAPOMENA: pomo\u0107u stringa `'*'` ozna\u010davat \u0107emo \u03b5 prijelaz.**"
     ]
    },
    {
     "cell_type": "markdown",
     "metadata": {},
     "source": [
      "## Inicijalizacija i prikaz\n",
      "\n",
      "Prvo \u0107emo preuzeti metode `__init__()`, `states()`, `symbols()`, `__repr__()`, `__str__()` koje su iste kao i kod klase `Nka`."
     ]
    },
    {
     "cell_type": "code",
     "collapsed": false,
     "input": [
      "class Enka():\n",
      "    def __init__(self, txt):\n",
      "        # u self dodati atribute start, finish i delta\n",
      "        pass\n",
      "    \n",
      "    @property\n",
      "    def states(self):\n",
      "        return\n",
      "    \n",
      "    @property\n",
      "    def symbols(self):\n",
      "        return\n",
      "    \n",
      "    def epsilon(self, states):\n",
      "        return\n",
      "    \n",
      "    def run(self, input):\n",
      "        return\n",
      "    \n",
      "    def __repr__(self):\n",
      "        return ''\n",
      "    \n",
      "    def __str__(self):\n",
      "        return ''\n",
      "    \n",
      "    def to_nka(self):\n",
      "        return\n",
      "    "
     ],
     "language": "python",
     "metadata": {},
     "outputs": [],
     "prompt_number": 4
    },
    {
     "cell_type": "markdown",
     "metadata": {},
     "source": [
      "Testirat \u0107emo na primjeru automata `ENKA1`"
     ]
    },
    {
     "cell_type": "code",
     "collapsed": false,
     "input": [
      "enka1 = Enka(ENKA1)\n",
      "print(enka1.states) # treba ispisati skup {'q0', 'q1', 'q2'}\n",
      "print(enka1.symbols) # treba ispisati skup {'0', '1', '2', '*' }\n",
      "print(repr(enka1))\n",
      "print(enka1)"
     ],
     "language": "python",
     "metadata": {},
     "outputs": [
      {
       "output_type": "stream",
       "stream": "stdout",
       "text": [
        "None\n",
        "None\n",
        "\n",
        "\n"
       ]
      }
     ],
     "prompt_number": 5
    },
    {
     "cell_type": "markdown",
     "metadata": {},
     "source": [
      "## \u03b5-okru\u017eenje i pokretanje\n",
      "\n",
      "Sada \u0107emo implementirati metodu `epsilon(self, states)` koja \u0107e vra\u0107ati \u03b5-okru\u017eenje skupa stanja. Ova metoda za svako stanje iz zadanog skupa stanja obilazi automat po \u03b5 prijelazima i stanja u koja je pre\u0161ao \u0107e biti rezultiraju\u0107a stanja.\n",
      "\n",
      "Na primjer \u03b5-okru\u017eenje od $q_0$ automata ENKA1 je $\\{q_0, q_1, q_2\\}$.\n",
      "\n",
      "Algoritam za dobivanje \u03b5-okru\u017eenja se temelji na algoritmu [obilaska grafa](http://en.wikipedia.org/wiki/Graph_traversal). Ovaj algoritam koristi red stanja Q i skup posje\u0107enih stanja V koji \u0107e na kraju algoritma sadr\u017eavati sva posje\u0107ena stanja po \u03b5 prijelazima.\n",
      "Slijedi pseudokod algoritma za pronala\u017eenje \u03b5-okru\u017eenja skupa stanja S\n",
      "\n",
      "* U red Q stavimo sva stanja iz S\n",
      "* U skup posje\u0107enih V stavimo sva stanja iz S\n",
      "* Dok red Q nije prazan:\n",
      "  * izbaci stanje s iz Q\n",
      "  * za svako novo stanje ns iz delta(s, \u03b5)\n",
      "    * ako ns nije u V onda\n",
      "      * stavi ns u Q\n",
      "      * stavi ns u V\n",
      "* vrati V\n",
      "\n",
      "Pogledajmo rad algoritma na primjeru skupa stanja $S = \\{q_0\\}$\n",
      "* inicijalno postavimo red $Q \\leftarrow [q_0]$ i skup $V \\leftarrow \\{q_0\\}$\n",
      "* Po\u0161to $Q$ nije prazan\n",
      "  * izbacimo stanje iz $Q$ i stavimo ga u $s \\leftarrow q_0$, sada je $Q = []$\n",
      "  * gledamo \u03b5 prijelaze iz stanja $s$, odnosno $\\delta(q_0, \u03b5)$ i dobijamo skup $\\{q_1\\}$\n",
      "    * sada nam je $ns \\leftarrow q_1$\n",
      "    * $ns$ nije u $V$ stoga ga ubacujemo u $V \\leftarrow V \\cup \\{q_1\\}$ i u $Q \\leftarrow Q + [q_1]$\n",
      "* sada je $Q \\leftarrow [q_1]$ i $V \\leftarrow \\{q_0, q_1\\}$\n",
      "* Po\u0161to $Q$ nije prazan\n",
      "  * izbacimo stanje iz $Q$ i stavimo ga u $s \\leftarrow q_1$, sada je $Q = []$\n",
      "  * gledamo \u03b5 prijelaze iz stanja $s$, odnosno $\\delta(q_1, \u03b5)$ i dobijamo skup $\\{q_2\\}$\n",
      "    * sada nam je $ns \\leftarrow q_2$\n",
      "    * $ns$ nije u $V$ stoga ga ubacujemo u $V \\leftarrow V \\cup \\{q_2\\}$ i u $Q \\leftarrow Q + [q_2]$\n",
      "* sada je $Q \\leftarrow [q_2]$ i $V \\leftarrow \\{q_0, q_1, q_2\\}$\n",
      "* Po\u0161to $Q$ nije prazan\n",
      "  * izbacimo stanje iz $Q$ i stavimo ga u $s \\leftarrow q_2$, sada je $Q = []$\n",
      "  * nemamo \u03b5 prijelaze iz stanja $s$, odnosno $\\delta(q_2, \u03b5) = \\{\\}$\n",
      "* sada je $Q \\leftarrow []$ i $V \\leftarrow \\{q_0, q_1, q_2\\}$\n",
      "* $Q$ je prazan\n",
      "* vrati $V$\n",
      "\n",
      "Rad algoritma \u0107emo testirati na donjim primjerima:"
     ]
    },
    {
     "cell_type": "code",
     "collapsed": false,
     "input": [
      "print(enka1.epsilon({'q0'}))\n",
      "print(enka1.epsilon({'q1'}))\n",
      "print(enka1.epsilon({'q2'}))\n",
      "print(enka1.epsilon({'q0', 'q1'}))\n",
      "print(enka1.epsilon({'q1', 'q2'}))\n",
      "print(enka1.epsilon({'q0', 'q2'}))"
     ],
     "language": "python",
     "metadata": {},
     "outputs": [
      {
       "output_type": "stream",
       "stream": "stdout",
       "text": [
        "None\n",
        "None\n",
        "None\n",
        "None\n",
        "None\n",
        "None\n"
       ]
      }
     ],
     "prompt_number": 6
    },
    {
     "cell_type": "markdown",
     "metadata": {},
     "source": [
      "Sada mo\u017eemo implementirati metodu `run()` za pokretanje automata u kojoj \u0107emo iskoristiti metodu `epsilon()` kako bi dobili sljede\u0107a stanja za pro\u010ditani simbol. Podsjetimo se kako se za trenutni skup stanja $S$ i pro\u010ditani simbol $z$ dobivaju sljede\u0107a stanja:\n",
      "\n",
      "$\u03b5-okolina(delta^*(\u03b5-okolina(S),z))$\n",
      "\n",
      "Metoda `run()` prima ulazni niz simbola koji je opisan kao string u kojemu su simboli odvojeni praznim znakom `' '`.  \n",
      "Na primjer, `'0 1 1 2'` je reprezentacija ulaznog niza 0 1 1 2.\n",
      "\n",
      "**Napomena: ulazni niz znakova mo\u017ee biti i prazni string `''`. U tom slu\u010daju \u0107emo ulazni niz znakova zamijeniti s `'*'`.**"
     ]
    },
    {
     "cell_type": "code",
     "collapsed": false,
     "input": [
      "print(enka1.run(''))  #True\n",
      "print(enka1.run('0'))  #True\n",
      "print(enka1.run('1'))  #True\n",
      "print(enka1.run('2'))  #True\n",
      "print(enka1.run('0 1'))  #True\n",
      "print(enka1.run('0 1 1 2'))  #True\n",
      "print(enka1.run('0 1 2 1'))  #False\n",
      "print(enka1.run('2 1 0 1'))  #False"
     ],
     "language": "python",
     "metadata": {},
     "outputs": [
      {
       "output_type": "stream",
       "stream": "stdout",
       "text": [
        "None\n",
        "None\n",
        "None\n",
        "None\n",
        "None\n",
        "None\n",
        "None\n",
        "None\n"
       ]
      }
     ],
     "prompt_number": 9
    },
    {
     "cell_type": "markdown",
     "metadata": {},
     "source": [
      "# Pretvorba \u03b5-NKA u NKA\n",
      "\n",
      "U klasi `Enka` dodaj metodu `to_nka(self)` koja \u0107e provoditi pretvorbu \u03b5-NKA u istovjetni NKA. Ova metoda \u0107e vratiti NKA \u010dija je klasa napravljena u projektu 4.\n",
      "\n",
      "Neka je M \u03b5-NKA opisan sa $(Q, \\Sigma \\cup \\{\u03b5\\}, \\delta, q_0, F)$, a M' ekvivalentni NKA opisan sa $(Q', \\Sigma \\cup \\{\u03b5\\}, \\delta', q_0', F')$. Pri tome vrijedi: \n",
      "* $q_0' = q_0$\n",
      "* $F' = F$ ako $\u03b5-okolina(q_0) \\cap F \\neq \\emptyset $, ina\u0107e $F' = F \\cup \\{q_0\\}$\n",
      "* $\\forall q \\in Q$ i $\\forall z \\in \\Sigma$ vrijedi $\\delta'(q, z) = \u03b5{-}okolina(\\delta(\u03b5-okolina(\\{q\\}), z))$\n",
      "\n",
      "\n",
      "Testirat \u0107emo pretvorbu na primjeru automata ENKA1."
     ]
    },
    {
     "cell_type": "code",
     "collapsed": false,
     "input": [
      "enka1.to_nka()"
     ],
     "language": "python",
     "metadata": {},
     "outputs": [],
     "prompt_number": 8
    },
    {
     "cell_type": "markdown",
     "metadata": {},
     "source": [
      "Za rezultat se dobije automat\n",
      "\n",
      "<img src=\"img/enka1_to_nka.jpg\" />\n",
      "\n",
      "odnosno\n",
      "\n",
      "||0|1|2||\n",
      "|-|-|-|-|-|\n",
      "|q0|{q0,q1,q2}|{q1,q2}|{q2}|1|\n",
      "|q1|{}|{q1,q2}|{q2}|0|\n",
      "|q2|{}|{}|{q2}|1|\n"
     ]
    }
   ],
   "metadata": {}
  }
 ]
}